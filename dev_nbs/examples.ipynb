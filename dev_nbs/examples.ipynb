{
 "cells": [
  {
   "cell_type": "code",
   "execution_count": 1,
   "metadata": {},
   "outputs": [
    {
     "name": "stdout",
     "output_type": "stream",
     "text": [
      "1.0.51\n"
     ]
    }
   ],
   "source": [
    "import sys\n",
    "\n",
    "from fastai.text import *\n",
    "import fastai\n",
    "print(fastai.__version__)\n",
    "\n",
    "sys.path.append('..')\n",
    "from custom_callbacks import *"
   ]
  },
  {
   "cell_type": "code",
   "execution_count": 2,
   "metadata": {},
   "outputs": [],
   "source": [
    "fn = Path('../data/final_export')"
   ]
  },
  {
   "cell_type": "code",
   "execution_count": 13,
   "metadata": {},
   "outputs": [],
   "source": [
    "learn = load_learner(fn.parent, fn.stem)"
   ]
  },
  {
   "cell_type": "code",
   "execution_count": 6,
   "metadata": {},
   "outputs": [],
   "source": [
    "txt = learn.predict('', 35)"
   ]
  },
  {
   "cell_type": "code",
   "execution_count": 25,
   "metadata": {},
   "outputs": [],
   "source": [
    "def create_haiku(n=35):\n",
    "    \n",
    "    txt = learn.predict('', n, temperature=0.5).split('xxeos')[0]\n",
    "    return txt.replace('xxbos ', '')"
   ]
  },
  {
   "cell_type": "code",
   "execution_count": 26,
   "metadata": {},
   "outputs": [
    {
     "data": {
      "text/plain": [
       "' If you \\'re interested \\n  in something , you can actually \\n  view it as a \" good \" . \\n  '"
      ]
     },
     "execution_count": 26,
     "metadata": {},
     "output_type": "execute_result"
    }
   ],
   "source": [
    "create_haiku()"
   ]
  },
  {
   "cell_type": "code",
   "execution_count": 27,
   "metadata": {},
   "outputs": [
    {
     "name": "stdout",
     "output_type": "stream",
     "text": [
      " The English language \n",
      "  is a very good language \n",
      "  in English english . \n",
      "  \n"
     ]
    }
   ],
   "source": [
    "print(create_haiku())"
   ]
  },
  {
   "cell_type": "code",
   "execution_count": 28,
   "metadata": {},
   "outputs": [],
   "source": [
    "def create_haikus(n=10):\n",
    "    \n",
    "    return '\\n\\n'.join([create_haiku() for _ in range(n)])"
   ]
  },
  {
   "cell_type": "code",
   "execution_count": 30,
   "metadata": {},
   "outputs": [
    {
     "name": "stdout",
     "output_type": "stream",
     "text": [
      " It 's been a while since \n",
      "  i 've read the books , but i 've been \n",
      "  trying to figure out . \n",
      "  \n",
      "\n",
      " The Bible is not \n",
      "  the only god that can not \n",
      "  be proven guilty . \n",
      "  \n",
      "\n",
      " It 's a great way , but \n",
      "  i 'm glad to see the people \n",
      "  who have n't seen it . \n",
      "  \n",
      "\n",
      " But , i think we 'll just \n",
      "  have to wait and see if you \n",
      "  can find the right one . \n",
      "  \n",
      "\n",
      " It 's a disappointing \n",
      "  thing to say that the Browns will \n",
      "  win the election . \n",
      "  \n",
      "\n",
      " It 's not like they are \n",
      "  the same but that 's what the current \n",
      "  meta is about . \n",
      "  \n",
      "\n",
      " It 's a pretty good \n",
      "  idea , but it 's pretty \n",
      "  much the same as mine . \n",
      "  \n",
      "\n",
      " i 'm sure we 'll just go \n",
      "  back to the \" Just BECAUSE \" part \n",
      "  is a little weak . \n",
      "  \n",
      "\n",
      " It 's a lot of fun \n",
      "  to play it on and it takes \n",
      "  some time to adjust . \n",
      "  \n",
      "\n",
      " It 's pretty easy \n",
      "  to get into the playoffs . \n",
      "  It 's a good story . \n",
      "  \n"
     ]
    }
   ],
   "source": [
    "print(create_haikus())"
   ]
  },
  {
   "cell_type": "code",
   "execution_count": 31,
   "metadata": {},
   "outputs": [
    {
     "name": "stdout",
     "output_type": "stream",
     "text": [
      " The first time i was \n",
      "  in a relationship , i 'd \n",
      "  probably go with it . \n",
      "  \n",
      "\n",
      " So we will be here \n",
      "  till we get a good deal from \n",
      "  the experience . \n",
      "  \n",
      "\n",
      " If you 've got a great \n",
      "  time , i 'd love to hear a few \n",
      "  more stories from you . \n",
      "  \n"
     ]
    }
   ],
   "source": [
    "print(create_haikus(3))"
   ]
  },
  {
   "cell_type": "code",
   "execution_count": 32,
   "metadata": {},
   "outputs": [
    {
     "name": "stdout",
     "output_type": "stream",
     "text": [
      " And i 've had my hand \n",
      "  in the back of my hand , but \n",
      "  i 'm still not sure why . \n",
      "  \n",
      "\n",
      " It 's the only thing \n",
      "  i have n't had so much fun \n",
      "  with the Internet . \n",
      "  \n",
      "\n",
      " The thing is , you can \n",
      "  get an idea about \n",
      "  what you 're looking for . \n",
      "  \n"
     ]
    }
   ],
   "source": [
    "print(create_haikus(3))"
   ]
  },
  {
   "cell_type": "code",
   "execution_count": 33,
   "metadata": {},
   "outputs": [
    {
     "name": "stdout",
     "output_type": "stream",
     "text": [
      " If you do n't mind me \n",
      "  asking , what 's your favorite thing \n",
      "  about the person ? \n",
      "  \n",
      "\n",
      " If you want to get \n",
      "  the Black Knight from Germany \n",
      "  then do n't be surprised . \n",
      "  \n",
      "\n",
      " How do you know that ? \n",
      "  Is there a reason why you \n",
      "  do n't have a license ? \n",
      "  \n"
     ]
    }
   ],
   "source": [
    "print(create_haikus(3))"
   ]
  },
  {
   "cell_type": "code",
   "execution_count": 34,
   "metadata": {},
   "outputs": [
    {
     "name": "stdout",
     "output_type": "stream",
     "text": [
      " i was n't really \n",
      "  sure what it was but it might \n",
      "  be a good question . \n",
      "  \n",
      "\n",
      " So , i do n't really \n",
      "  know what to say , but it 'll be \n",
      "  pretty obvious . \n",
      "  \n",
      "\n",
      " If you 're interested \n",
      "  in the experience , you \n",
      "  can get your own work . \n",
      "  \n"
     ]
    }
   ],
   "source": [
    "print(create_haikus(3))"
   ]
  },
  {
   "cell_type": "markdown",
   "metadata": {},
   "source": [
    "## Check if some of the really good generated haikus are in the training set"
   ]
  },
  {
   "cell_type": "code",
   "execution_count": 3,
   "metadata": {},
   "outputs": [],
   "source": [
    "df = pd.read_csv('../data/haikus.csv')"
   ]
  },
  {
   "cell_type": "code",
   "execution_count": 4,
   "metadata": {},
   "outputs": [
    {
     "data": {
      "text/html": [
       "<div>\n",
       "<style scoped>\n",
       "    .dataframe tbody tr th:only-of-type {\n",
       "        vertical-align: middle;\n",
       "    }\n",
       "\n",
       "    .dataframe tbody tr th {\n",
       "        vertical-align: top;\n",
       "    }\n",
       "\n",
       "    .dataframe thead th {\n",
       "        text-align: right;\n",
       "    }\n",
       "</style>\n",
       "<table border=\"1\" class=\"dataframe\">\n",
       "  <thead>\n",
       "    <tr style=\"text-align: right;\">\n",
       "      <th></th>\n",
       "      <th>Unnamed: 0</th>\n",
       "      <th>text</th>\n",
       "    </tr>\n",
       "  </thead>\n",
       "  <tbody>\n",
       "    <tr>\n",
       "      <th>0</th>\n",
       "      <td>0</td>\n",
       "      <td>Can't you see how much\\nbetter you make the wo...</td>\n",
       "    </tr>\n",
       "    <tr>\n",
       "      <th>1</th>\n",
       "      <td>1</td>\n",
       "      <td>I'm fine. I'm listening\\nto music and eating l...</td>\n",
       "    </tr>\n",
       "    <tr>\n",
       "      <th>2</th>\n",
       "      <td>2</td>\n",
       "      <td>Your cat has no more\\nmetaphysical value\\nthan...</td>\n",
       "    </tr>\n",
       "    <tr>\n",
       "      <th>3</th>\n",
       "      <td>3</td>\n",
       "      <td>This only makes me\\nwonder where else our love...</td>\n",
       "    </tr>\n",
       "    <tr>\n",
       "      <th>4</th>\n",
       "      <td>4</td>\n",
       "      <td>That was too easy.\\nYou probably have a giant\\...</td>\n",
       "    </tr>\n",
       "  </tbody>\n",
       "</table>\n",
       "</div>"
      ],
      "text/plain": [
       "   Unnamed: 0                                               text\n",
       "0           0  Can't you see how much\\nbetter you make the wo...\n",
       "1           1  I'm fine. I'm listening\\nto music and eating l...\n",
       "2           2  Your cat has no more\\nmetaphysical value\\nthan...\n",
       "3           3  This only makes me\\nwonder where else our love...\n",
       "4           4  That was too easy.\\nYou probably have a giant\\..."
      ]
     },
     "execution_count": 4,
     "metadata": {},
     "output_type": "execute_result"
    }
   ],
   "source": [
    "df.head()"
   ]
  },
  {
   "cell_type": "code",
   "execution_count": 23,
   "metadata": {},
   "outputs": [],
   "source": [
    "test_str = 'the bible is'\n",
    "n = len(test_str)"
   ]
  },
  {
   "cell_type": "code",
   "execution_count": 24,
   "metadata": {},
   "outputs": [
    {
     "data": {
      "text/html": [
       "<div>\n",
       "<style scoped>\n",
       "    .dataframe tbody tr th:only-of-type {\n",
       "        vertical-align: middle;\n",
       "    }\n",
       "\n",
       "    .dataframe tbody tr th {\n",
       "        vertical-align: top;\n",
       "    }\n",
       "\n",
       "    .dataframe thead th {\n",
       "        text-align: right;\n",
       "    }\n",
       "</style>\n",
       "<table border=\"1\" class=\"dataframe\">\n",
       "  <thead>\n",
       "    <tr style=\"text-align: right;\">\n",
       "      <th></th>\n",
       "      <th>Unnamed: 0</th>\n",
       "      <th>text</th>\n",
       "    </tr>\n",
       "  </thead>\n",
       "  <tbody>\n",
       "    <tr>\n",
       "      <th>14331</th>\n",
       "      <td>14331</td>\n",
       "      <td>But the Bible is\\nnot God's word. It's proven ...</td>\n",
       "    </tr>\n",
       "    <tr>\n",
       "      <th>18980</th>\n",
       "      <td>18980</td>\n",
       "      <td>A source which agrees\\nwith the bible is not f...</td>\n",
       "    </tr>\n",
       "    <tr>\n",
       "      <th>49022</th>\n",
       "      <td>49022</td>\n",
       "      <td>However, I do\\nnot believe the Bible is\\nwitho...</td>\n",
       "    </tr>\n",
       "    <tr>\n",
       "      <th>56193</th>\n",
       "      <td>56193</td>\n",
       "      <td>-Marketing Exec\\nShow me* The bible is not\\npr...</td>\n",
       "    </tr>\n",
       "    <tr>\n",
       "      <th>57160</th>\n",
       "      <td>57160</td>\n",
       "      <td>The bible is not.\\nI don't know any Christians...</td>\n",
       "    </tr>\n",
       "    <tr>\n",
       "      <th>81462</th>\n",
       "      <td>81462</td>\n",
       "      <td>The Bible isn't\\nfull of stories of people\\ndo...</td>\n",
       "    </tr>\n",
       "    <tr>\n",
       "      <th>147327</th>\n",
       "      <td>147327</td>\n",
       "      <td>Uh... I don't think that's\\nwhat the Bible is ...</td>\n",
       "    </tr>\n",
       "    <tr>\n",
       "      <th>295096</th>\n",
       "      <td>295096</td>\n",
       "      <td>Thanks for your concern!\\nYou're quite kind. T...</td>\n",
       "    </tr>\n",
       "    <tr>\n",
       "      <th>300446</th>\n",
       "      <td>300446</td>\n",
       "      <td>Please keep me posted.\\nCheers! The Bible is n...</td>\n",
       "    </tr>\n",
       "    <tr>\n",
       "      <th>300884</th>\n",
       "      <td>300884</td>\n",
       "      <td>how did you do it?\\nThe Bible is not true. Yea...</td>\n",
       "    </tr>\n",
       "  </tbody>\n",
       "</table>\n",
       "</div>"
      ],
      "text/plain": [
       "        Unnamed: 0                                               text\n",
       "14331        14331  But the Bible is\\nnot God's word. It's proven ...\n",
       "18980        18980  A source which agrees\\nwith the bible is not f...\n",
       "49022        49022  However, I do\\nnot believe the Bible is\\nwitho...\n",
       "56193        56193  -Marketing Exec\\nShow me* The bible is not\\npr...\n",
       "57160        57160  The bible is not.\\nI don't know any Christians...\n",
       "81462        81462  The Bible isn't\\nfull of stories of people\\ndo...\n",
       "147327      147327  Uh... I don't think that's\\nwhat the Bible is ...\n",
       "295096      295096  Thanks for your concern!\\nYou're quite kind. T...\n",
       "300446      300446  Please keep me posted.\\nCheers! The Bible is n...\n",
       "300884      300884  how did you do it?\\nThe Bible is not true. Yea..."
      ]
     },
     "execution_count": 24,
     "metadata": {},
     "output_type": "execute_result"
    }
   ],
   "source": [
    "df[df.text.apply(lambda x: test_str in x.lower())]"
   ]
  },
  {
   "cell_type": "code",
   "execution_count": 25,
   "metadata": {},
   "outputs": [
    {
     "data": {
      "text/plain": [
       "\"But the Bible is\\nnot God's word. It's proven false.\\nForget Abraham.\\n\""
      ]
     },
     "execution_count": 25,
     "metadata": {},
     "output_type": "execute_result"
    }
   ],
   "source": [
    "df.iloc[14331, 1]"
   ]
  },
  {
   "cell_type": "code",
   "execution_count": 8,
   "metadata": {},
   "outputs": [
    {
     "data": {
      "text/plain": [
       "\"The Bible isn't\\nfull of stories of people\\ndoing for themselves.\\n\""
      ]
     },
     "execution_count": 8,
     "metadata": {},
     "output_type": "execute_result"
    }
   ],
   "source": [
    "df.iloc[81462, 1]"
   ]
  },
  {
   "cell_type": "markdown",
   "metadata": {},
   "source": [
    " One of the good ones:\n",
    " \n",
    " If you have the time //\n",
    " to see what the Bible says , // \n",
    " then God will exist . "
   ]
  },
  {
   "cell_type": "code",
   "execution_count": 22,
   "metadata": {},
   "outputs": [
    {
     "data": {
      "text/html": [
       "<div>\n",
       "<style scoped>\n",
       "    .dataframe tbody tr th:only-of-type {\n",
       "        vertical-align: middle;\n",
       "    }\n",
       "\n",
       "    .dataframe tbody tr th {\n",
       "        vertical-align: top;\n",
       "    }\n",
       "\n",
       "    .dataframe thead th {\n",
       "        text-align: right;\n",
       "    }\n",
       "</style>\n",
       "<table border=\"1\" class=\"dataframe\">\n",
       "  <thead>\n",
       "    <tr style=\"text-align: right;\">\n",
       "      <th></th>\n",
       "      <th>Unnamed: 0</th>\n",
       "      <th>text</th>\n",
       "    </tr>\n",
       "  </thead>\n",
       "  <tbody>\n",
       "  </tbody>\n",
       "</table>\n",
       "</div>"
      ],
      "text/plain": [
       "Empty DataFrame\n",
       "Columns: [Unnamed: 0, text]\n",
       "Index: []"
      ]
     },
     "execution_count": 22,
     "metadata": {},
     "output_type": "execute_result"
    }
   ],
   "source": [
    "test_str = ' to see what the Bible says'\n",
    "df[df.text.apply(lambda x: test_str in x.lower())]"
   ]
  },
  {
   "cell_type": "markdown",
   "metadata": {},
   "source": [
    "Another one:\n",
    "\n",
    " You are posting here //\n",
    " too frequently , so your post //\n",
    " has been deleted . "
   ]
  },
  {
   "cell_type": "code",
   "execution_count": 26,
   "metadata": {},
   "outputs": [
    {
     "data": {
      "text/html": [
       "<div>\n",
       "<style scoped>\n",
       "    .dataframe tbody tr th:only-of-type {\n",
       "        vertical-align: middle;\n",
       "    }\n",
       "\n",
       "    .dataframe tbody tr th {\n",
       "        vertical-align: top;\n",
       "    }\n",
       "\n",
       "    .dataframe thead th {\n",
       "        text-align: right;\n",
       "    }\n",
       "</style>\n",
       "<table border=\"1\" class=\"dataframe\">\n",
       "  <thead>\n",
       "    <tr style=\"text-align: right;\">\n",
       "      <th></th>\n",
       "      <th>Unnamed: 0</th>\n",
       "      <th>text</th>\n",
       "    </tr>\n",
       "  </thead>\n",
       "  <tbody>\n",
       "    <tr>\n",
       "      <th>282</th>\n",
       "      <td>282</td>\n",
       "      <td>You are posting here\\ntoo frequently, so your ...</td>\n",
       "    </tr>\n",
       "    <tr>\n",
       "      <th>174674</th>\n",
       "      <td>174674</td>\n",
       "      <td>You are posting here\\ntoo frequently, so your ...</td>\n",
       "    </tr>\n",
       "    <tr>\n",
       "      <th>190158</th>\n",
       "      <td>190158</td>\n",
       "      <td>You are posting here\\ntoo frequently, so your ...</td>\n",
       "    </tr>\n",
       "    <tr>\n",
       "      <th>313619</th>\n",
       "      <td>313619</td>\n",
       "      <td>You are posting here\\ntoo frequently, so your ...</td>\n",
       "    </tr>\n",
       "    <tr>\n",
       "      <th>313627</th>\n",
       "      <td>313627</td>\n",
       "      <td>You are posting here\\ntoo frequently, so your ...</td>\n",
       "    </tr>\n",
       "  </tbody>\n",
       "</table>\n",
       "</div>"
      ],
      "text/plain": [
       "        Unnamed: 0                                               text\n",
       "282            282  You are posting here\\ntoo frequently, so your ...\n",
       "174674      174674  You are posting here\\ntoo frequently, so your ...\n",
       "190158      190158  You are posting here\\ntoo frequently, so your ...\n",
       "313619      313619  You are posting here\\ntoo frequently, so your ...\n",
       "313627      313627  You are posting here\\ntoo frequently, so your ..."
      ]
     },
     "execution_count": 26,
     "metadata": {},
     "output_type": "execute_result"
    }
   ],
   "source": [
    "# Looks like this one has appeared a number of times during training!!!\n",
    "test_str = 'you are posting here'\n",
    "df[df.text.apply(lambda x: test_str in x.lower())].head()"
   ]
  },
  {
   "cell_type": "code",
   "execution_count": 20,
   "metadata": {},
   "outputs": [
    {
     "data": {
      "text/plain": [
       "'You are posting here\\ntoo frequently, so your post\\nhas been deleted.\\n'"
      ]
     },
     "execution_count": 20,
     "metadata": {},
     "output_type": "execute_result"
    }
   ],
   "source": [
    "df.iloc[313777, 1]"
   ]
  },
  {
   "cell_type": "code",
   "execution_count": 36,
   "metadata": {},
   "outputs": [
    {
     "data": {
      "text/html": [
       "<div>\n",
       "<style scoped>\n",
       "    .dataframe tbody tr th:only-of-type {\n",
       "        vertical-align: middle;\n",
       "    }\n",
       "\n",
       "    .dataframe tbody tr th {\n",
       "        vertical-align: top;\n",
       "    }\n",
       "\n",
       "    .dataframe thead th {\n",
       "        text-align: right;\n",
       "    }\n",
       "</style>\n",
       "<table border=\"1\" class=\"dataframe\">\n",
       "  <thead>\n",
       "    <tr style=\"text-align: right;\">\n",
       "      <th></th>\n",
       "      <th>Unnamed: 0</th>\n",
       "      <th>text</th>\n",
       "    </tr>\n",
       "  </thead>\n",
       "  <tbody>\n",
       "  </tbody>\n",
       "</table>\n",
       "</div>"
      ],
      "text/plain": [
       "Empty DataFrame\n",
       "Columns: [Unnamed: 0, text]\n",
       "Index: []"
      ]
     },
     "execution_count": 36,
     "metadata": {},
     "output_type": "execute_result"
    }
   ],
   "source": [
    "test_str = \"a state of affairs\"\n",
    "df[df.text.apply(lambda x: test_str in x.lower())].head()"
   ]
  },
  {
   "cell_type": "code",
   "execution_count": null,
   "metadata": {},
   "outputs": [],
   "source": []
  }
 ],
 "metadata": {
  "kernelspec": {
   "display_name": "Python 3",
   "language": "python",
   "name": "python3"
  },
  "language_info": {
   "codemirror_mode": {
    "name": "ipython",
    "version": 3
   },
   "file_extension": ".py",
   "mimetype": "text/x-python",
   "name": "python",
   "nbconvert_exporter": "python",
   "pygments_lexer": "ipython3",
   "version": "3.7.1"
  }
 },
 "nbformat": 4,
 "nbformat_minor": 2
}
