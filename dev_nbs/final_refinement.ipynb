{
 "cells": [
  {
   "cell_type": "markdown",
   "metadata": {},
   "source": [
    "# Train Haiku Model"
   ]
  },
  {
   "cell_type": "code",
   "execution_count": 1,
   "metadata": {},
   "outputs": [
    {
     "name": "stdout",
     "output_type": "stream",
     "text": [
      "1.0.51\n"
     ]
    }
   ],
   "source": [
    "import sys\n",
    "\n",
    "from fastai.text import *\n",
    "import fastai\n",
    "print(fastai.__version__)\n",
    "\n",
    "sys.path.append('..')\n",
    "from custom_callbacks import *"
   ]
  },
  {
   "cell_type": "markdown",
   "metadata": {},
   "source": [
    "## Setting"
   ]
  },
  {
   "cell_type": "code",
   "execution_count": 2,
   "metadata": {},
   "outputs": [],
   "source": [
    "path = Path('../data')\n",
    "\n",
    "model_fn = 'awd_second_phase'"
   ]
  },
  {
   "cell_type": "markdown",
   "metadata": {
    "colab_type": "text",
    "id": "O4yHNxsbg4QZ"
   },
   "source": [
    "## Build Basic Language Model"
   ]
  },
  {
   "cell_type": "code",
   "execution_count": 3,
   "metadata": {
    "colab": {},
    "colab_type": "code",
    "id": "dzgiCRwyk2VW"
   },
   "outputs": [],
   "source": [
    "data_lm = TextLMDataBunch.from_csv(path, 'haikus.csv', bptt=32, \n",
    "                                   bs = 256,\n",
    "                                   max_vocab=10000, valid_pct=0.02,\n",
    "                                   include_eos=True, include_bos=True)"
   ]
  },
  {
   "cell_type": "code",
   "execution_count": 4,
   "metadata": {},
   "outputs": [
    {
     "data": {
      "text/plain": [
       "(344676, 7035)"
      ]
     },
     "execution_count": 4,
     "metadata": {},
     "output_type": "execute_result"
    }
   ],
   "source": [
    "len(data_lm.train_ds), len(data_lm.valid_ds)"
   ]
  },
  {
   "cell_type": "code",
   "execution_count": 5,
   "metadata": {},
   "outputs": [
    {
     "data": {
      "text/html": [
       "<table border=\"1\" class=\"dataframe\">\n",
       "  <thead>\n",
       "    <tr style=\"text-align: right;\">\n",
       "      <th>idx</th>\n",
       "      <th>text</th>\n",
       "    </tr>\n",
       "  </thead>\n",
       "  <tbody>\n",
       "    <tr>\n",
       "      <td>0</td>\n",
       "      <td>getting filled up \\n  like crazy right now . \\n  xxeos xxbos [ deleted ] xxmaj how much ? \\n  xxmaj they do n't correct the problem , \\n  only the xxunk</td>\n",
       "    </tr>\n",
       "    <tr>\n",
       "      <td>1</td>\n",
       "      <td>my god ! \\n  xxmaj it is the current year . \\n  xxeos xxbos xxmaj once you go xxmaj johnny \\n  xxmaj mac ! ! xxmaj you never go back ! !</td>\n",
       "    </tr>\n",
       "  </tbody>\n",
       "</table>"
      ],
      "text/plain": [
       "<IPython.core.display.HTML object>"
      ]
     },
     "metadata": {},
     "output_type": "display_data"
    }
   ],
   "source": [
    "data_lm.show_batch(2)"
   ]
  },
  {
   "cell_type": "code",
   "execution_count": 6,
   "metadata": {
    "colab": {},
    "colab_type": "code",
    "id": "gwv7jUQWlbsj"
   },
   "outputs": [],
   "source": [
    "learn = language_model_learner(data_lm, AWD_LSTM, drop_mult=0.5).load(model_fn);"
   ]
  },
  {
   "cell_type": "markdown",
   "metadata": {},
   "source": [
    "## Start Fitting"
   ]
  },
  {
   "cell_type": "code",
   "execution_count": 7,
   "metadata": {
    "colab": {
     "base_uri": "https://localhost:8080/",
     "height": 35
    },
    "colab_type": "code",
    "executionInfo": {
     "elapsed": 588,
     "status": "ok",
     "timestamp": 1554562630425,
     "user": {
      "displayName": "Krisztian Kovacs",
      "photoUrl": "",
      "userId": "17603558286976133686"
     },
     "user_tz": -60
    },
    "id": "lKiaN1sEop_g",
    "outputId": "3646c51c-4247-4399-8f6d-90fda94a4b36"
   },
   "outputs": [
    {
     "name": "stdout",
     "output_type": "stream",
     "text": [
      " xxbos But i do n't think it 's \n",
      "  the best of the realize . \n",
      "  The us who said it . \n",
      "  xxeos xxbos It 's not a ] reason \n",
      " \n"
     ]
    }
   ],
   "source": [
    "print(learn.predict('', n_words=35, temperature=0.5))"
   ]
  },
  {
   "cell_type": "code",
   "execution_count": 8,
   "metadata": {},
   "outputs": [
    {
     "data": {
      "text/html": [],
      "text/plain": [
       "<IPython.core.display.HTML object>"
      ]
     },
     "metadata": {},
     "output_type": "display_data"
    },
    {
     "name": "stdout",
     "output_type": "stream",
     "text": [
      "LR Finder is complete, type {learner_name}.recorder.plot() to see the graph.\n"
     ]
    },
    {
     "data": {
      "image/png": "[encoded data removed]",
      "text/plain": [
       "<Figure size 432x288 with 1 Axes>"
      ]
     },
     "metadata": {
      "needs_background": "light"
     },
     "output_type": "display_data"
    }
   ],
   "source": [
    "learn.unfreeze()\n",
    "learn.lr_find()\n",
    "learn.recorder.plot()"
   ]
  },
  {
   "cell_type": "code",
   "execution_count": 9,
   "metadata": {
    "colab": {
     "base_uri": "https://localhost:8080/",
     "height": 104
    },
    "colab_type": "code",
    "executionInfo": {
     "elapsed": 983655,
     "status": "ok",
     "timestamp": 1554563651589,
     "user": {
      "displayName": "Krisztian Kovacs",
      "photoUrl": "",
      "userId": "17603558286976133686"
     },
     "user_tz": -60
    },
    "id": "id0g5s36lfir",
    "outputId": "efc1264c-4535-42d6-8f3b-2dd5776612bd"
   },
   "outputs": [
    {
     "data": {
      "text/html": [
       "Total time: 1:03:58 <p><table border=\"1\" class=\"dataframe\">\n",
       "  <thead>\n",
       "    <tr style=\"text-align: left;\">\n",
       "      <th>epoch</th>\n",
       "      <th>train_loss</th>\n",
       "      <th>valid_loss</th>\n",
       "      <th>accuracy</th>\n",
       "      <th>time</th>\n",
       "    </tr>\n",
       "  </thead>\n",
       "  <tbody>\n",
       "    <tr>\n",
       "      <td>0</td>\n",
       "      <td>3.400027</td>\n",
       "      <td>3.551658</td>\n",
       "      <td>0.375000</td>\n",
       "      <td>06:20</td>\n",
       "    </tr>\n",
       "    <tr>\n",
       "      <td>1</td>\n",
       "      <td>3.120114</td>\n",
       "      <td>3.198318</td>\n",
       "      <td>0.375000</td>\n",
       "      <td>06:23</td>\n",
       "    </tr>\n",
       "    <tr>\n",
       "      <td>2</td>\n",
       "      <td>2.977188</td>\n",
       "      <td>3.023378</td>\n",
       "      <td>0.500000</td>\n",
       "      <td>06:24</td>\n",
       "    </tr>\n",
       "    <tr>\n",
       "      <td>3</td>\n",
       "      <td>2.899378</td>\n",
       "      <td>3.007133</td>\n",
       "      <td>0.468750</td>\n",
       "      <td>06:23</td>\n",
       "    </tr>\n",
       "    <tr>\n",
       "      <td>4</td>\n",
       "      <td>2.831548</td>\n",
       "      <td>2.957135</td>\n",
       "      <td>0.437500</td>\n",
       "      <td>06:24</td>\n",
       "    </tr>\n",
       "    <tr>\n",
       "      <td>5</td>\n",
       "      <td>2.773860</td>\n",
       "      <td>2.951493</td>\n",
       "      <td>0.500000</td>\n",
       "      <td>06:24</td>\n",
       "    </tr>\n",
       "    <tr>\n",
       "      <td>6</td>\n",
       "      <td>2.719429</td>\n",
       "      <td>2.992108</td>\n",
       "      <td>0.468750</td>\n",
       "      <td>06:24</td>\n",
       "    </tr>\n",
       "    <tr>\n",
       "      <td>7</td>\n",
       "      <td>2.679986</td>\n",
       "      <td>2.954947</td>\n",
       "      <td>0.468750</td>\n",
       "      <td>06:24</td>\n",
       "    </tr>\n",
       "    <tr>\n",
       "      <td>8</td>\n",
       "      <td>2.639176</td>\n",
       "      <td>2.936638</td>\n",
       "      <td>0.468750</td>\n",
       "      <td>06:24</td>\n",
       "    </tr>\n",
       "    <tr>\n",
       "      <td>9</td>\n",
       "      <td>2.622760</td>\n",
       "      <td>2.939124</td>\n",
       "      <td>0.468750</td>\n",
       "      <td>06:24</td>\n",
       "    </tr>\n",
       "  </tbody>\n",
       "</table>"
      ],
      "text/plain": [
       "<IPython.core.display.HTML object>"
      ]
     },
     "metadata": {},
     "output_type": "display_data"
    }
   ],
   "source": [
    "learn.fit_one_cycle(10, slice(1e-2))"
   ]
  },
  {
   "cell_type": "code",
   "execution_count": 10,
   "metadata": {},
   "outputs": [],
   "source": [
    "learn.save('awd_third_phase')"
   ]
  },
  {
   "cell_type": "code",
   "execution_count": 11,
   "metadata": {},
   "outputs": [],
   "source": [
    "learn.export('final_export')"
   ]
  },
  {
   "cell_type": "code",
   "execution_count": 18,
   "metadata": {},
   "outputs": [
    {
     "name": "stdout",
     "output_type": "stream",
     "text": [
      " xxbos It 's a bit pricey \n",
      "  but it 's really good to see \n",
      "  the New York City . \n",
      "  xxeos xxbos It 's not the same thing \n",
      " \n"
     ]
    }
   ],
   "source": [
    "print(learn.predict('', n_words=35, temperature=0.5))"
   ]
  },
  {
   "cell_type": "code",
   "execution_count": null,
   "metadata": {},
   "outputs": [],
   "source": []
  }
 ],
 "metadata": {
  "accelerator": "GPU",
  "colab": {
   "collapsed_sections": [],
   "name": "Load_Haikus.ipynb",
   "provenance": [],
   "version": "0.3.2"
  },
  "kernelspec": {
   "display_name": "Python 3",
   "language": "python",
   "name": "python3"
  },
  "language_info": {
   "codemirror_mode": {
    "name": "ipython",
    "version": 3
   },
   "file_extension": ".py",
   "mimetype": "text/x-python",
   "name": "python",
   "nbconvert_exporter": "python",
   "pygments_lexer": "ipython3",
   "version": "3.7.1"
  }
 },
 "nbformat": 4,
 "nbformat_minor": 1
}
