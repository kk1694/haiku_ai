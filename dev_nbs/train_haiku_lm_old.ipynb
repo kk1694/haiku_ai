{
 "cells": [
  {
   "cell_type": "markdown",
   "metadata": {},
   "source": [
    "# Train Haiku Model"
   ]
  },
  {
   "cell_type": "code",
   "execution_count": 1,
   "metadata": {},
   "outputs": [
    {
     "name": "stdout",
     "output_type": "stream",
     "text": [
      "1.0.51\n"
     ]
    }
   ],
   "source": [
    "from fastai.text import *\n",
    "import fastai\n",
    "print(fastai.__version__)"
   ]
  },
  {
   "cell_type": "markdown",
   "metadata": {},
   "source": [
    "## Setting"
   ]
  },
  {
   "cell_type": "code",
   "execution_count": 2,
   "metadata": {},
   "outputs": [],
   "source": [
    "path = Path('data')"
   ]
  },
  {
   "cell_type": "markdown",
   "metadata": {
    "colab_type": "text",
    "id": "uFEvl-C-eyK0"
   },
   "source": [
    "# Prepare Data"
   ]
  },
  {
   "cell_type": "code",
   "execution_count": 3,
   "metadata": {
    "colab": {
     "base_uri": "https://localhost:8080/",
     "height": 214
    },
    "colab_type": "code",
    "executionInfo": {
     "elapsed": 14339,
     "status": "ok",
     "timestamp": 1554562275468,
     "user": {
      "displayName": "Krisztian Kovacs",
      "photoUrl": "",
      "userId": "17603558286976133686"
     },
     "user_tz": -60
    },
    "id": "hcbLiCtIf7nF",
    "outputId": "716d268b-c776-42ba-c7a5-1dbd2dd8b38d"
   },
   "outputs": [
    {
     "name": "stdout",
     "output_type": "stream",
     "text": [
      "--2019-04-13 11:09:47--  https://raw.githubusercontent.com/bfaure/hAIku/master/data.tsv\n",
      "Resolving raw.githubusercontent.com (raw.githubusercontent.com)... 151.101.0.133, 151.101.64.133, 151.101.128.133, ...\n",
      "Connecting to raw.githubusercontent.com (raw.githubusercontent.com)|151.101.0.133|:443... connected.\n",
      "HTTP request sent, awaiting response... 200 OK\n",
      "Length: 26734459 (25M) [text/plain]\n",
      "Saving to: ‘data.tsv’\n",
      "\n",
      "data.tsv            100%[===================>]  25.50M  --.-KB/s    in 0.08s   \n",
      "\n",
      "2019-04-13 11:09:47 (327 MB/s) - ‘data.tsv’ saved [26734459/26734459]\n",
      "\n"
     ]
    }
   ],
   "source": [
    "# Download data (someone already scraped a dataset on github)\n",
    "!wget https://raw.githubusercontent.com/bfaure/hAIku/master/data.tsv"
   ]
  },
  {
   "cell_type": "code",
   "execution_count": 4,
   "metadata": {
    "colab": {},
    "colab_type": "code",
    "id": "mPADCPPpgReF"
   },
   "outputs": [
    {
     "name": "stdout",
     "output_type": "stream",
     "text": [
      "351711\n"
     ]
    },
    {
     "data": {
      "text/plain": [
       "[\"Can't you see how much<br> better you make the world just<br>by being in it?\\n\",\n",
       " \"I'm fine. I'm listening<br> to music and eating lunch.<br>You're still an asshole.\\n\",\n",
       " 'Your cat has no more<br> metaphysical value<br>than a deer or cow.\\n']"
      ]
     },
     "execution_count": 4,
     "metadata": {},
     "output_type": "execute_result"
    }
   ],
   "source": [
    "haiku_list = open('data.tsv', 'r').readlines()\n",
    "print(len(haiku_list))\n",
    "haiku_list[:3]"
   ]
  },
  {
   "cell_type": "code",
   "execution_count": 5,
   "metadata": {
    "colab": {},
    "colab_type": "code",
    "id": "hiqGxJfVkeuJ"
   },
   "outputs": [],
   "source": [
    "# Put into dataframe\n",
    "# Add meta information in the beginning (description will later be replaced)\n",
    "df = pd.DataFrame({'text':haiku_list})\n",
    "df['text'] = 'style: haiku\\ndescription: none\\npoem:\\n' + df['text']\n",
    "df['text'] = df['text'].apply(lambda x: x.replace('<br> ', '\\n').replace('<br>', '\\n'))"
   ]
  },
  {
   "cell_type": "code",
   "execution_count": 6,
   "metadata": {
    "colab": {
     "base_uri": "https://localhost:8080/",
     "height": 35
    },
    "colab_type": "code",
    "executionInfo": {
     "elapsed": 693,
     "status": "ok",
     "timestamp": 1554562295964,
     "user": {
      "displayName": "Krisztian Kovacs",
      "photoUrl": "",
      "userId": "17603558286976133686"
     },
     "user_tz": -60
    },
    "id": "X7s4ezjYrrln",
    "outputId": "9472ffa4-45a7-4146-da80-830e4bcda1ad"
   },
   "outputs": [
    {
     "name": "stdout",
     "output_type": "stream",
     "text": [
      "style: haiku\n",
      "description: none\n",
      "poem:\n",
      "Can't you see how much\n",
      "better you make the world just\n",
      "by being in it?\n",
      "\n"
     ]
    }
   ],
   "source": [
    "print(df.text.iloc[0])"
   ]
  },
  {
   "cell_type": "code",
   "execution_count": 7,
   "metadata": {},
   "outputs": [],
   "source": [
    "df.to_csv(path/'haikus2.csv', index=True)"
   ]
  },
  {
   "cell_type": "code",
   "execution_count": 8,
   "metadata": {},
   "outputs": [],
   "source": [
    "!rm -f data.tsv  # Remove old file"
   ]
  },
  {
   "cell_type": "markdown",
   "metadata": {
    "colab_type": "text",
    "id": "O4yHNxsbg4QZ"
   },
   "source": [
    "## Build Basic Language Model"
   ]
  },
  {
   "cell_type": "code",
   "execution_count": 3,
   "metadata": {
    "colab": {},
    "colab_type": "code",
    "id": "dzgiCRwyk2VW"
   },
   "outputs": [],
   "source": [
    "data_lm = TextLMDataBunch.from_csv(path, 'haikus2.csv', \n",
    "                                   bs = 256,\n",
    "                                   max_vocab=10000, valid_pct=0.02,\n",
    "                                   include_eos=True, include_bos=True)"
   ]
  },
  {
   "cell_type": "code",
   "execution_count": 20,
   "metadata": {},
   "outputs": [
    {
     "data": {
      "text/plain": [
       "(344676, 7035)"
      ]
     },
     "execution_count": 20,
     "metadata": {},
     "output_type": "execute_result"
    }
   ],
   "source": [
    "len(data_lm.train_ds), len(data_lm.valid_ds)"
   ]
  },
  {
   "cell_type": "code",
   "execution_count": 21,
   "metadata": {},
   "outputs": [
    {
     "data": {
      "text/html": [
       "<table border=\"1\" class=\"dataframe\">\n",
       "  <thead>\n",
       "    <tr style=\"text-align: right;\">\n",
       "      <th>idx</th>\n",
       "      <th>text</th>\n",
       "    </tr>\n",
       "  </thead>\n",
       "  <tbody>\n",
       "    <tr>\n",
       "      <td>0</td>\n",
       "      <td>\\n  poem : \\n  xxmaj this is what i 've had \\n  for two weeks and i can not \\n  imagine changing . \\n  xxeos xxbos style : haiku \\n  description : none \\n  poem : \\n  * xxmaj the above comments \\n  are meant only to foster \\n  civil discussion . \\n  xxeos xxbos style : haiku \\n</td>\n",
       "    </tr>\n",
       "    <tr>\n",
       "      <td>1</td>\n",
       "      <td>of slow . \\n  xxmaj take your baby steps . xxmaj work on \\n  basic social skills . \\n  xxeos xxbos style : haiku \\n  description : none \\n  poem : \\n  xxmaj life will go on past \\n  this moment , and step by step , \\n  you 'll make it better . \\n  xxeos xxbos style : haiku \\n</td>\n",
       "    </tr>\n",
       "  </tbody>\n",
       "</table>"
      ],
      "text/plain": [
       "<IPython.core.display.HTML object>"
      ]
     },
     "metadata": {},
     "output_type": "display_data"
    }
   ],
   "source": [
    "ex = data_lm.show_batch(2)"
   ]
  },
  {
   "cell_type": "code",
   "execution_count": 14,
   "metadata": {},
   "outputs": [
    {
     "data": {
      "text/plain": [
       "(Text xxbos style : haiku \n",
       "   description : none \n",
       "   poem : \n",
       "   xxmaj so while i get you 're \n",
       "   trying to stir things up , i do n't \n",
       "   really see the point . \n",
       "   xxeos, EmptyLabel )"
      ]
     },
     "execution_count": 14,
     "metadata": {},
     "output_type": "execute_result"
    }
   ],
   "source": [
    "data_lm.train_ds[1]"
   ]
  },
  {
   "cell_type": "code",
   "execution_count": 15,
   "metadata": {},
   "outputs": [],
   "source": [
    "xb, yb = next(iter(data_lm.train_dl))"
   ]
  },
  {
   "cell_type": "code",
   "execution_count": 16,
   "metadata": {},
   "outputs": [
    {
     "data": {
      "text/plain": [
       "torch.Size([256, 16])"
      ]
     },
     "execution_count": 16,
     "metadata": {},
     "output_type": "execute_result"
    }
   ],
   "source": [
    "xb.shape"
   ]
  },
  {
   "cell_type": "code",
   "execution_count": 17,
   "metadata": {},
   "outputs": [
    {
     "data": {
      "text/plain": [
       "tensor([[ 433,   11,    9,  ...,   16,   10,    9],\n",
       "        [  76,   27,    9,  ...,   15,    9,   14],\n",
       "        [   9, 2411, 7062,  ...,    2,   13,   10],\n",
       "        ...,\n",
       "        [  10,    9,    5,  ...,   11,    9,    5],\n",
       "        [  34,  339,    5,  ..., 3710,   11,    5],\n",
       "        [   9,   14,   10,  ...,    9,  223,   21]], device='cuda:0')"
      ]
     },
     "execution_count": 17,
     "metadata": {},
     "output_type": "execute_result"
    }
   ],
   "source": [
    "xb"
   ]
  },
  {
   "cell_type": "code",
   "execution_count": 18,
   "metadata": {},
   "outputs": [
    {
     "data": {
      "text/plain": [
       "tensor([[  11,    9,    3,  ...,   10,    9,    5],\n",
       "        [  27,    9,   32,  ...,    9,   14,   10],\n",
       "        [2411, 7062,  156,  ...,   13,   10,   15],\n",
       "        ...,\n",
       "        [   9,    5,   82,  ...,    9,    5, 2783],\n",
       "        [ 339,    5,  564,  ...,   11,    5,  191],\n",
       "        [  14,   10,   12,  ...,  223,   21,  185]], device='cuda:0')"
      ]
     },
     "execution_count": 18,
     "metadata": {},
     "output_type": "execute_result"
    }
   ],
   "source": [
    "yb"
   ]
  },
  {
   "cell_type": "code",
   "execution_count": null,
   "metadata": {},
   "outputs": [],
   "source": []
  },
  {
   "cell_type": "code",
   "execution_count": null,
   "metadata": {},
   "outputs": [],
   "source": []
  },
  {
   "cell_type": "code",
   "execution_count": null,
   "metadata": {},
   "outputs": [],
   "source": []
  },
  {
   "cell_type": "code",
   "execution_count": null,
   "metadata": {},
   "outputs": [],
   "source": []
  },
  {
   "cell_type": "code",
   "execution_count": 12,
   "metadata": {
    "colab": {},
    "colab_type": "code",
    "id": "gwv7jUQWlbsj"
   },
   "outputs": [],
   "source": [
    "learn = language_model_learner(data_lm, AWD_LSTM, drop_mult=0.5, pretrained=True)"
   ]
  },
  {
   "cell_type": "code",
   "execution_count": 20,
   "metadata": {},
   "outputs": [],
   "source": [
    "start_str = 'xxbos style: haiku\\ndescription: none\\npoem:\\n'"
   ]
  },
  {
   "cell_type": "markdown",
   "metadata": {},
   "source": [
    "## Start Fitting"
   ]
  },
  {
   "cell_type": "code",
   "execution_count": 14,
   "metadata": {
    "colab": {
     "base_uri": "https://localhost:8080/",
     "height": 35
    },
    "colab_type": "code",
    "executionInfo": {
     "elapsed": 588,
     "status": "ok",
     "timestamp": 1554562630425,
     "user": {
      "displayName": "Krisztian Kovacs",
      "photoUrl": "",
      "userId": "17603558286976133686"
     },
     "user_tz": -60
    },
    "id": "lKiaN1sEop_g",
    "outputId": "3646c51c-4247-4399-8f6d-90fda94a4b36"
   },
   "outputs": [
    {
     "name": "stdout",
     "output_type": "stream",
     "text": [
      "style: haiku\n",
      "description: none\n",
      "poem:\n",
      " 6 : 1 \n",
      "  2 . Friday afternoon Properties \n",
      "  5 ( See Model 8 : Week 5 summary , 7 : 8 ) \n",
      "  6 . 9\n"
     ]
    }
   ],
   "source": [
    "print(learn.predict(start_str, n_words=35))"
   ]
  },
  {
   "cell_type": "code",
   "execution_count": 15,
   "metadata": {
    "colab": {
     "base_uri": "https://localhost:8080/",
     "height": 104
    },
    "colab_type": "code",
    "executionInfo": {
     "elapsed": 983655,
     "status": "ok",
     "timestamp": 1554563651589,
     "user": {
      "displayName": "Krisztian Kovacs",
      "photoUrl": "",
      "userId": "17603558286976133686"
     },
     "user_tz": -60
    },
    "id": "id0g5s36lfir",
    "outputId": "efc1264c-4535-42d6-8f3b-2dd5776612bd"
   },
   "outputs": [
    {
     "data": {
      "text/html": [
       "Total time: 07:21 <p><table border=\"1\" class=\"dataframe\">\n",
       "  <thead>\n",
       "    <tr style=\"text-align: left;\">\n",
       "      <th>epoch</th>\n",
       "      <th>train_loss</th>\n",
       "      <th>valid_loss</th>\n",
       "      <th>accuracy</th>\n",
       "      <th>time</th>\n",
       "    </tr>\n",
       "  </thead>\n",
       "  <tbody>\n",
       "    <tr>\n",
       "      <td>0</td>\n",
       "      <td>2.461842</td>\n",
       "      <td>0.761391</td>\n",
       "      <td>0.812500</td>\n",
       "      <td>07:21</td>\n",
       "    </tr>\n",
       "  </tbody>\n",
       "</table>"
      ],
      "text/plain": [
       "<IPython.core.display.HTML object>"
      ]
     },
     "metadata": {},
     "output_type": "display_data"
    }
   ],
   "source": [
    "learn.fit_one_cycle(1, 1e-3)"
   ]
  },
  {
   "cell_type": "code",
   "execution_count": 16,
   "metadata": {},
   "outputs": [],
   "source": [
    "learn.predict??"
   ]
  },
  {
   "cell_type": "code",
   "execution_count": 24,
   "metadata": {
    "colab": {
     "base_uri": "https://localhost:8080/",
     "height": 35
    },
    "colab_type": "code",
    "executionInfo": {
     "elapsed": 561,
     "status": "ok",
     "timestamp": 1554566385256,
     "user": {
      "displayName": "Krisztian Kovacs",
      "photoUrl": "",
      "userId": "17603558286976133686"
     },
     "user_tz": -60
    },
    "id": "q7l0yaAo4y6v",
    "outputId": "24ca5b2f-5fba-48e6-ca47-13c65aeb9f3f"
   },
   "outputs": [
    {
     "name": "stdout",
     "output_type": "stream",
     "text": [
      " . \n",
      "  description : none \n",
      "  poem : \n",
      "  If your faith is called it 's \n",
      "  because she found it innocent you 're called to lose anything . \n",
      "  xxeos xxbos style :\n"
     ]
    }
   ],
   "source": [
    "print(learn.predict('', n_words=35))"
   ]
  },
  {
   "cell_type": "code",
   "execution_count": 25,
   "metadata": {
    "colab": {},
    "colab_type": "code",
    "id": "2fmygvKllzmS"
   },
   "outputs": [],
   "source": [
    "learn.unfreeze()"
   ]
  },
  {
   "cell_type": "code",
   "execution_count": 26,
   "metadata": {
    "colab": {
     "base_uri": "https://localhost:8080/",
     "height": 35
    },
    "colab_type": "code",
    "executionInfo": {
     "elapsed": 19592,
     "status": "ok",
     "timestamp": 1554563696430,
     "user": {
      "displayName": "Krisztian Kovacs",
      "photoUrl": "",
      "userId": "17603558286976133686"
     },
     "user_tz": -60
    },
    "id": "m7h_s6nsl9q6",
    "outputId": "f77b69cc-4512-45f1-c244-759c5a81eeb8"
   },
   "outputs": [
    {
     "data": {
      "text/html": [],
      "text/plain": [
       "<IPython.core.display.HTML object>"
      ]
     },
     "metadata": {},
     "output_type": "display_data"
    },
    {
     "name": "stdout",
     "output_type": "stream",
     "text": [
      "LR Finder is complete, type {learner_name}.recorder.plot() to see the graph.\n"
     ]
    },
    {
     "data": {
      "image/png": "[encoded data removed]",
      "text/plain": [
       "<Figure size 432x288 with 1 Axes>"
      ]
     },
     "metadata": {
      "needs_background": "light"
     },
     "output_type": "display_data"
    }
   ],
   "source": [
    "learn.lr_find()\n",
    "learn.recorder.plot()"
   ]
  },
  {
   "cell_type": "code",
   "execution_count": null,
   "metadata": {
    "colab": {
     "base_uri": "https://localhost:8080/",
     "height": 901
    },
    "colab_type": "code",
    "executionInfo": {
     "elapsed": 1553,
     "status": "error",
     "timestamp": 1554566337156,
     "user": {
      "displayName": "Krisztian Kovacs",
      "photoUrl": "",
      "userId": "17603558286976133686"
     },
     "user_tz": -60
    },
    "id": "5XqneFaTmAbm",
    "outputId": "2c65f956-0313-4dda-b0e6-caee513e059c"
   },
   "outputs": [
    {
     "data": {
      "text/html": [
       "\n",
       "    <div>\n",
       "        <style>\n",
       "            /* Turns off some styling */\n",
       "            progress {\n",
       "                /* gets rid of default border in Firefox and Opera. */\n",
       "                border: none;\n",
       "                /* Needs to be in here for Safari polyfill so background images work as expected. */\n",
       "                background-size: auto;\n",
       "            }\n",
       "            .progress-bar-interrupted, .progress-bar-interrupted::-webkit-progress-bar {\n",
       "                background: #F44336;\n",
       "            }\n",
       "        </style>\n",
       "      <progress value='0' class='' max='3', style='width:300px; height:20px; vertical-align: middle;'></progress>\n",
       "      0.00% [0/3 00:00<00:00]\n",
       "    </div>\n",
       "    \n",
       "<table border=\"1\" class=\"dataframe\">\n",
       "  <thead>\n",
       "    <tr style=\"text-align: left;\">\n",
       "      <th>epoch</th>\n",
       "      <th>train_loss</th>\n",
       "      <th>valid_loss</th>\n",
       "      <th>accuracy</th>\n",
       "      <th>time</th>\n",
       "    </tr>\n",
       "  </thead>\n",
       "  <tbody>\n",
       "  </tbody>\n",
       "</table><p>\n",
       "\n",
       "    <div>\n",
       "        <style>\n",
       "            /* Turns off some styling */\n",
       "            progress {\n",
       "                /* gets rid of default border in Firefox and Opera. */\n",
       "                border: none;\n",
       "                /* Needs to be in here for Safari polyfill so background images work as expected. */\n",
       "                background-size: auto;\n",
       "            }\n",
       "            .progress-bar-interrupted, .progress-bar-interrupted::-webkit-progress-bar {\n",
       "                background: #F44336;\n",
       "            }\n",
       "        </style>\n",
       "      <progress value='76' class='' max='2786', style='width:300px; height:20px; vertical-align: middle;'></progress>\n",
       "      2.73% [76/2786 00:16<09:30 2.4398]\n",
       "    </div>\n",
       "    "
      ],
      "text/plain": [
       "<IPython.core.display.HTML object>"
      ]
     },
     "metadata": {},
     "output_type": "display_data"
    }
   ],
   "source": [
    "learn.fit_one_cycle(3, slice(1e-2))"
   ]
  },
  {
   "cell_type": "code",
   "execution_count": 0,
   "metadata": {
    "colab": {
     "base_uri": "https://localhost:8080/",
     "height": 55
    },
    "colab_type": "code",
    "executionInfo": {
     "elapsed": 563,
     "status": "ok",
     "timestamp": 1554553926150,
     "user": {
      "displayName": "Krisztian Kovacs",
      "photoUrl": "",
      "userId": "17603558286976133686"
     },
     "user_tz": -60
    },
    "id": "qTkrAhTvmTP_",
    "outputId": "1aa4e58f-66a4-43f8-f0b2-669e049af518"
   },
   "outputs": [
    {
     "data": {
      "text/plain": [
       "\"Can't you see how much<br>  haiku xxbos haiku xxbos haiku xxbos haiku xxbos haiku xxbos haiku xxbos haiku xxbos haiku xxbos haiku xxbos haiku xxbos haiku xxbos haiku xxbos haiku xxbos haiku xxbos haiku xxbos haiku xxbos haiku xxbos haiku\""
      ]
     },
     "execution_count": 40,
     "metadata": {
      "tags": []
     },
     "output_type": "execute_result"
    }
   ],
   "source": [
    "learn.predict(\"Can't you see how much<br> \", 35)"
   ]
  },
  {
   "cell_type": "code",
   "execution_count": 0,
   "metadata": {
    "colab": {
     "base_uri": "https://localhost:8080/",
     "height": 71
    },
    "colab_type": "code",
    "executionInfo": {
     "elapsed": 644,
     "status": "ok",
     "timestamp": 1554553899335,
     "user": {
      "displayName": "Krisztian Kovacs",
      "photoUrl": "",
      "userId": "17603558286976133686"
     },
     "user_tz": -60
    },
    "id": "88Sxd-CMocEt",
    "outputId": "263d3eed-c3fa-4fb3-d466-bdd02729c2b1"
   },
   "outputs": [
    {
     "data": {
      "text/plain": [
       "[\"Can't you see how much<br> better you make the world just<br>by being in it?\\n\",\n",
       " \"I'm fine. I'm listening<br> to music and eating lunch.<br>You're still an asshole.\\n\",\n",
       " 'Your cat has no more<br> metaphysical value<br>than a deer or cow.\\n']"
      ]
     },
     "execution_count": 37,
     "metadata": {
      "tags": []
     },
     "output_type": "execute_result"
    }
   ],
   "source": [
    "haiku_list[:3]"
   ]
  },
  {
   "cell_type": "code",
   "execution_count": 0,
   "metadata": {
    "colab": {},
    "colab_type": "code",
    "id": "TttvLr9CogXm"
   },
   "outputs": [],
   "source": []
  },
  {
   "cell_type": "code",
   "execution_count": null,
   "metadata": {},
   "outputs": [],
   "source": []
  },
  {
   "cell_type": "code",
   "execution_count": 4,
   "metadata": {},
   "outputs": [],
   "source": [
    "learn = language_model_learner(data_lm, AWD_LSTM, drop_mult=0.5, pretrained=True).load('awd1');"
   ]
  },
  {
   "cell_type": "code",
   "execution_count": 15,
   "metadata": {},
   "outputs": [],
   "source": [
    "start_str = 'xxbos style: haiku\\ndescription: none\\npoem:\\n'"
   ]
  },
  {
   "cell_type": "code",
   "execution_count": 23,
   "metadata": {},
   "outputs": [
    {
     "name": "stdout",
     "output_type": "stream",
     "text": [
      " xxbos style : haiku \n",
      "  description : none \n",
      "  poem : \n",
      "  No one is respect \n",
      "  to give a someone also go \n",
      "  felt is doubt out . \n",
      "  xxeos xxbos style :\n"
     ]
    }
   ],
   "source": [
    "print(learn.predict('', n_words=35, temperature=0.7))"
   ]
  },
  {
   "cell_type": "code",
   "execution_count": null,
   "metadata": {},
   "outputs": [],
   "source": []
  },
  {
   "cell_type": "code",
   "execution_count": null,
   "metadata": {},
   "outputs": [],
   "source": []
  }
 ],
 "metadata": {
  "accelerator": "GPU",
  "colab": {
   "collapsed_sections": [],
   "name": "Load_Haikus.ipynb",
   "provenance": [],
   "version": "0.3.2"
  },
  "kernelspec": {
   "display_name": "Python 3",
   "language": "python",
   "name": "python3"
  },
  "language_info": {
   "codemirror_mode": {
    "name": "ipython",
    "version": 3
   },
   "file_extension": ".py",
   "mimetype": "text/x-python",
   "name": "python",
   "nbconvert_exporter": "python",
   "pygments_lexer": "ipython3",
   "version": "3.7.1"
  }
 },
 "nbformat": 4,
 "nbformat_minor": 1
}
